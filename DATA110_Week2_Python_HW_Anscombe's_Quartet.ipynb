{
  "nbformat": 4,
  "nbformat_minor": 0,
  "metadata": {
    "colab": {
      "private_outputs": true,
      "provenance": []
    },
    "kernelspec": {
      "name": "python3",
      "display_name": "Python 3"
    },
    "language_info": {
      "name": "python"
    }
  },
  "cells": [
    {
      "cell_type": "markdown",
      "source": [
        "### Step 1: Import Necessary Packages\n",
        "\n",
        "Before we begin, we need to import the necessary Python libraries for plotting and performing the regression. We'll use:\n",
        "\n",
        "- `matplotlib.pyplot` for creating the graph\n",
        "- `numpy` for numerical operations\n"
      ],
      "metadata": {
        "id": "DwPQHz0ByEvD"
      }
    },
    {
      "cell_type": "code",
      "execution_count": null,
      "metadata": {
        "id": "pXmhBZ4MvRPv"
      },
      "outputs": [],
      "source": [
        "import matplotlib.pyplot as plt\n",
        "import numpy as np"
      ]
    },
    {
      "cell_type": "markdown",
      "source": [
        "### Step 2: Anscombe's Quartet Dataset\n",
        "\n",
        "This dataset is known as **Anscombe's Quartet**, created by statistician Francis Anscombe to illustrate the importance of visualizing data. Despite having nearly identical statistical properties (e.g., mean, variance, correlation, and linear regression), each dataset tells a very different story when graphed.\n",
        "\n",
        "- **x**: The independent variable, common across three datasets.\n",
        "- **y1, y2, y3**: Three different dependent variables associated with the same `x` values.\n",
        "- **x4, y4**: A special case where most of the `x` values are identical, with one outlier.\n",
        "\n",
        "#### Anscombe's Quartet:\n",
        "\n",
        "`"
      ],
      "metadata": {
        "id": "548spAROy0JN"
      }
    },
    {
      "cell_type": "code",
      "source": [
        "# Anscombe's Quartet:\n",
        "x = [10, 8, 13, 9, 11, 14, 6, 4, 12, 7, 5]\n",
        "y1 = [8.04, 6.95, 7.58, 8.81, 8.33, 9.96, 7.24, 4.26, 10.84, 4.82, 5.68]\n",
        "y2 = [9.14, 8.14, 8.74, 8.77, 9.26, 8.10, 6.13, 3.10, 9.13, 7.26, 4.74]\n",
        "y3 = [7.46, 6.77, 12.74, 7.11, 7.81, 8.84, 6.08, 5.39, 8.15, 6.42, 5.73]\n",
        "x4 = [8, 8, 8, 8, 8, 8, 8, 19, 8, 8, 8]\n",
        "y4 = [6.58, 5.76, 7.71, 8.84, 8.47, 7.04, 5.25, 12.50, 5.56, 7.91, 6.89]\n"
      ],
      "metadata": {
        "id": "aPVnuHIevUqf"
      },
      "execution_count": null,
      "outputs": []
    },
    {
      "cell_type": "code",
      "source": [
        "plt.scatter(x, y1)\n"
      ],
      "metadata": {
        "id": "w0l5R9KqvXvd"
      },
      "execution_count": null,
      "outputs": []
    },
    {
      "cell_type": "code",
      "source": [
        "# Calculate the slope (m) and intercept (b) of the line using np.polyfit\n",
        "m, b = np.polyfit(x, y1, 1)\n",
        "\n",
        "# Create the regression line\n",
        "regression_line = m * np.array(x) + b\n",
        "\n",
        "# Plot the data points and regression line\n",
        "plt.scatter(x, y1)\n",
        "plt.plot(x, regression_line,color='red')\n",
        "plt.xlabel('x')\n",
        "plt.ylabel('y1')\n"
      ],
      "metadata": {
        "id": "pDygKka5v80w"
      },
      "execution_count": null,
      "outputs": []
    },
    {
      "cell_type": "markdown",
      "source": [
        "### Your Task:\n",
        "\n",
        "Perform the same linear regression process for the following datasets: y2, y3, and y4.\n",
        "Modify the code to calculate and plot the regression lines for each of these datasets.\n",
        "Use distinct colors for each plot and appropriately label the axes (y2, y3, etc.).\n",
        "Discuss any differences you observe when comparing the results across all datasets.\n"
      ],
      "metadata": {
        "id": "zq1vxanv0WCk"
      }
    },
    {
      "cell_type": "code",
      "source": [
        "# Code for x and y2\n",
        "\n",
        "# Calculate the slope (m) and intercept (b) of the line using np.polyfit\n",
        "m, b = np.polyfit(x, y2, 1)\n",
        "\n",
        "# Create the regression line\n",
        "regression_line = m * np.array(x) + b\n",
        "\n",
        "# Plot the data points and regression line\n",
        "plt.scatter(x, y2, color=\"magenta\")\n",
        "plt.plot(x, regression_line,color='grey')\n",
        "plt.xlabel('x')\n",
        "plt.ylabel('y2')\n",
        "\n"
      ],
      "metadata": {
        "id": "xlEuffEB0akv"
      },
      "execution_count": null,
      "outputs": []
    },
    {
      "cell_type": "code",
      "source": [
        "# Your Code need to be here for x and y3\n",
        "\n",
        "# Calculate the slope (m) and intercept (b) of the line using np.polyfit\n",
        "m, b = np.polyfit(x, y3, 1)\n",
        "\n",
        "# Create the regression line\n",
        "regression_line = m * np.array(x) + b\n",
        "\n",
        "# Plot the data points and regression line\n",
        "plt.scatter(x, y3, color=\"blue\")\n",
        "plt.plot(x, regression_line,color='purple')\n",
        "plt.xlabel('x')\n",
        "plt.ylabel('y3')"
      ],
      "metadata": {
        "id": "japDtZHZ0spc"
      },
      "execution_count": null,
      "outputs": []
    },
    {
      "cell_type": "code",
      "source": [
        "# Your code need to be here for x and y4\n",
        "\n",
        "# Calculate the slope (m) and intercept (b) of the line using np.polyfit\n",
        "m, b = np.polyfit(x, y4, 1)\n",
        "\n",
        "# Create the regression line\n",
        "regression_line = m * np.array(x) + b\n",
        "\n",
        "# Plot the data points and regression line\n",
        "plt.scatter(x, y4, color=\"teal\")\n",
        "plt.plot(x, regression_line,color='lavender')\n",
        "plt.xlabel('x')\n",
        "plt.ylabel('y4')"
      ],
      "metadata": {
        "id": "xB_v3dqe0vk6"
      },
      "execution_count": null,
      "outputs": []
    },
    {
      "cell_type": "code",
      "source": [
        "# Your code need to be here for x4 and y4\n",
        "\n",
        "# Calculate the slope (m) and intercept (b) of the line using np.polyfit\n",
        "m, b = np.polyfit(x4, y4, 1)\n",
        "\n",
        "# Create the regression line\n",
        "regression_line = m * np.array(x) + b\n",
        "\n",
        "# Plot the data points and regression line\n",
        "plt.scatter(x4, y4, color=\"red\")\n",
        "plt.plot(x4, regression_line,color='black')\n",
        "plt.xlabel('x4')\n",
        "plt.ylabel('y4')"
      ],
      "metadata": {
        "id": "9JZOv2du1Ajk"
      },
      "execution_count": null,
      "outputs": []
    },
    {
      "cell_type": "markdown",
      "source": [
        "### Reflection Question:\n",
        "\n",
        "After visualizing the linear regression for all four datasets in Anscombe's Quartet, reflect on the following:\n",
        "\n",
        "#### What is your reflection?\n",
        "- How do the datasets visually differ despite having similar summary statistics?\n",
        "- How did the outlier in the `x4, y4` dataset affect the regression line compared to the other datasets?\n",
        "- Why is it important to visualize data in addition to calculating summary statistics?\n",
        "\n",
        "Please provide your insights and discuss the importance of data visualization in understanding relationships between variables.\n"
      ],
      "metadata": {
        "id": "s6D6uk8v1KRZ"
      }
    },
    {
      "cell_type": "markdown",
      "source": [
        "### My Reflection:\n",
        "\n",
        "The datasets differ in terms of the relationship between the variables. The scatterplots for x and y1, x and y2 and x and y3, have a positive relationship as the regression line and points go in an upwards direction. Then, the x and y4 scatterplot has a negative relationship as the regresion line and points go in a downward direction. Also, while there are similar summary statitics and similar relationships for some of the scatterplots, it is important to note that some of the relationships are strong in terms of the data points being closer to the regression line whereas it can be observed that some are more spreadout and considered a bit more weak in terms of the relationship. The outlier for the x4 and y4 data made the regression line non-linear. This is because the outlier is too high relative to the other data points causing the regression to become non-linear. It is important to visualize data in addition to calculating the summary statistics because it can show the relationships of the between the variables whether the relationship is strong, weak, positive or negative something that we are not able to determine with just the summary statisitcs."
      ],
      "metadata": {
        "id": "mteefytQD1w_"
      }
    }
  ]
}